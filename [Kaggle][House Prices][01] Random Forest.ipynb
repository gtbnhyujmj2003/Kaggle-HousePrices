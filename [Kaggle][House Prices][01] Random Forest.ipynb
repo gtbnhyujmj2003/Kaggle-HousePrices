{
 "cells": [
  {
   "cell_type": "code",
   "execution_count": 1,
   "metadata": {},
   "outputs": [],
   "source": [
    "# 載入資料\n",
    "\n",
    "import pandas as pd\n",
    "\n",
    "train_df = pd.read_csv(\"house/train.csv\", encoding=\"UTF8\")\n",
    "test_df = pd.read_csv(\"house/test.csv\", encoding=\"UTF8\")\n",
    "\n",
    "# train_df\n",
    "# 1460 rows × 81 columns\n",
    "# test_df\n",
    "# 1459 rows × 80 columns"
   ]
  },
  {
   "cell_type": "code",
   "execution_count": 2,
   "metadata": {},
   "outputs": [],
   "source": [
    "# 畫 pd 圖\n",
    "# 把 train 和 test 和在一起，一起補值。\n",
    "\n",
    "# pd.concat = 把兩個 df 合在一起。\n",
    "train_df_drop = train_df.drop(\"SalePrice\", axis = 1)\n",
    "\n",
    "datas = pd.concat([train_df_drop, test_df], axis=0)\n",
    "datas = datas.drop(['Id'], axis=1)\n",
    "\n",
    "# datas\n",
    "# 2919 rows × 80 columns\n",
    "# 1460 + 1459 = 2919"
   ]
  },
  {
   "cell_type": "code",
   "execution_count": 3,
   "metadata": {},
   "outputs": [],
   "source": [
    "# 找空值\n",
    "na = datas.isna().sum()\n",
    "# na\n",
    "\n",
    "# 要找 na > 0 的，兼排序。\n",
    "na2 = na[na != 0 ].sort_values(ascending=False)\n",
    "# na2"
   ]
  },
  {
   "cell_type": "code",
   "execution_count": 4,
   "metadata": {},
   "outputs": [],
   "source": [
    "# 缺太多直接 drop 掉\n",
    "# na1000 = na[na > 1000].index\n",
    "\n",
    "datas = datas.drop(na[na > 1000].index, axis=1)\n",
    "\n",
    "# datas\n",
    "# 2919 rows × 74 columns"
   ]
  },
  {
   "cell_type": "code",
   "execution_count": 5,
   "metadata": {},
   "outputs": [],
   "source": [
    "# 這次只填數值的缺失\n",
    "# 類別缺失 直接 > one-hot encoding\n",
    "med = datas.median().drop(\"MSSubClass\")\n",
    "datas = datas.fillna(med)\n",
    "\n",
    "# datas\n",
    "# 2919 rows × 74 columns"
   ]
  },
  {
   "cell_type": "code",
   "execution_count": 6,
   "metadata": {},
   "outputs": [],
   "source": [
    "# one-hot encoding\n",
    "# pandas.get_dummies() = 函數功能：將類別變量轉換為標籤變量。\n",
    "datas = pd.get_dummies(datas)\n",
    "# 2919 rows × 270 columns\n",
    "\n",
    "# 特別處理 \"MSSubClass\"\n",
    "# \"MSSubClass\" 這時還有缺失值\n",
    "datas = pd.get_dummies(datas, columns=[\"MSSubClass\"])\n",
    "# datas\n",
    "# 2919 rows × 285 columns"
   ]
  },
  {
   "cell_type": "code",
   "execution_count": 7,
   "metadata": {},
   "outputs": [],
   "source": [
    "# 資料預處理 --->\n",
    "\n",
    "# train_df.shape\n",
    "# (1460, 81)\n",
    "\n",
    "# 根据序列取 橫列 > iloc\n",
    "# datas 是 兩張表 concat 來的，所以這個時候要拆回去。\n",
    "x_train = datas.iloc[ : train_df.shape[0]]\n",
    "x_predict = datas.iloc[train_df.shape[0] : ]\n",
    "\n",
    "# 答案\n",
    "y_train = train_df[\"SalePrice\"]\n",
    "\n",
    "# 預備\n",
    "predict_id = test_df[\"Id\"]"
   ]
  },
  {
   "cell_type": "code",
   "execution_count": 8,
   "metadata": {},
   "outputs": [
    {
     "data": {
      "text/plain": [
       "RandomForestRegressor(bootstrap=True, ccp_alpha=0.0, criterion='mse',\n",
       "                      max_depth=8, max_features='auto', max_leaf_nodes=None,\n",
       "                      max_samples=None, min_impurity_decrease=0.0,\n",
       "                      min_impurity_split=None, min_samples_leaf=1,\n",
       "                      min_samples_split=2, min_weight_fraction_leaf=0.0,\n",
       "                      n_estimators=75, n_jobs=None, oob_score=False,\n",
       "                      random_state=None, verbose=0, warm_start=False)"
      ]
     },
     "execution_count": 8,
     "metadata": {},
     "output_type": "execute_result"
    }
   ],
   "source": [
    "# 作弊\n",
    "# 不算預測力喔\n",
    "# 預測力要參考鐵達尼號喔\n",
    "\n",
    "# '真樹' 在此\n",
    "# 來預測喔--->\n",
    "\n",
    "from sklearn.ensemble import RandomForestRegressor\n",
    "from sklearn.model_selection import GridSearchCV\n",
    "\n",
    "clf = RandomForestRegressor(n_estimators = 75, max_depth = 8)\n",
    "clf.fit(x_train, y_train)"
   ]
  },
  {
   "cell_type": "code",
   "execution_count": 9,
   "metadata": {},
   "outputs": [],
   "source": [
    "# 來預言喔\n",
    "\n",
    "pre = clf.predict(x_predict)\n",
    "# pre"
   ]
  },
  {
   "cell_type": "code",
   "execution_count": 10,
   "metadata": {},
   "outputs": [],
   "source": [
    "# 預言要補上對應 ID\n",
    "\n",
    "result = pd.DataFrame({\n",
    "        \"Id\":predict_id,\n",
    "        \"SalePrice\":pre,})\n",
    "\n",
    "# 存檔\n",
    "result.to_csv(\"house_price_df.csv\", encoding=\"UTF8\", index=False)\n",
    "\n",
    "# result"
   ]
  }
 ],
 "metadata": {
  "kernelspec": {
   "display_name": "Python 3",
   "language": "python",
   "name": "python3"
  },
  "language_info": {
   "codemirror_mode": {
    "name": "ipython",
    "version": 3
   },
   "file_extension": ".py",
   "mimetype": "text/x-python",
   "name": "python",
   "nbconvert_exporter": "python",
   "pygments_lexer": "ipython3",
   "version": "3.7.7"
  }
 },
 "nbformat": 4,
 "nbformat_minor": 4
}
